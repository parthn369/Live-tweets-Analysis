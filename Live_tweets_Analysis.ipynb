{
  "nbformat": 4,
  "nbformat_minor": 0,
  "metadata": {
    "colab": {
      "name": "Live tweets Analysis.ipynb",
      "provenance": [],
      "authorship_tag": "ABX9TyPbTX4M4kNcXJPXIEYPGeD+",
      "include_colab_link": true
    },
    "kernelspec": {
      "name": "python3",
      "display_name": "Python 3"
    }
  },
  "cells": [
    {
      "cell_type": "markdown",
      "metadata": {
        "id": "view-in-github",
        "colab_type": "text"
      },
      "source": [
        "<a href=\"https://colab.research.google.com/github/parthn369/Live-tweets-Analysis/blob/main/Live_tweets_Analysis.ipynb\" target=\"_parent\"><img src=\"https://colab.research.google.com/assets/colab-badge.svg\" alt=\"Open In Colab\"/></a>"
      ]
    },
    {
      "cell_type": "code",
      "metadata": {
        "id": "RacY5GiFgBjf"
      },
      "source": [
        "api_key = \"ELnpqKqgHLEep035UZN2yA2wt\"\n",
        "api_secret = \"eQpYIycVaJ47nYv1qhDeOAVnpn5f65DOCp3y1toI3amDIgemS5\"\n",
        "access_token = \"182925782-RQNGrRz1QlzrhxhJVYYGgedHLL9zSyyFc3BGVZNa\"\n",
        "access_token_secret = \"VvW4hvn4Tbfy3hcOHumbQyU0oyW7NZCnECfbjBAYj8sWz\""
      ],
      "execution_count": 1,
      "outputs": []
    },
    {
      "cell_type": "code",
      "metadata": {
        "id": "po0dnhVvgGiv"
      },
      "source": [
        "import tweepy\n",
        "from textblob import TextBlob"
      ],
      "execution_count": 2,
      "outputs": []
    },
    {
      "cell_type": "code",
      "metadata": {
        "id": "P1PmTTOJgKM7"
      },
      "source": [
        "auth = tweepy.OAuthHandler(api_key,api_secret)\n",
        "auth.set_access_token(access_token,access_token_secret)"
      ],
      "execution_count": 3,
      "outputs": []
    },
    {
      "cell_type": "code",
      "metadata": {
        "id": "3298nNahgNI3"
      },
      "source": [
        "api = tweepy.API(auth)"
      ],
      "execution_count": 4,
      "outputs": []
    },
    {
      "cell_type": "code",
      "metadata": {
        "id": "59veXpsngQdw"
      },
      "source": [
        "tweets = api.search(\"Bihar Election\")"
      ],
      "execution_count": 5,
      "outputs": []
    },
    {
      "cell_type": "code",
      "metadata": {
        "id": "wN7_0-I3gRwx",
        "outputId": "6c008185-4405-4715-ef51-111028489418",
        "colab": {
          "base_uri": "https://localhost:8080/"
        }
      },
      "source": [
        "len(tweets)"
      ],
      "execution_count": 6,
      "outputs": [
        {
          "output_type": "execute_result",
          "data": {
            "text/plain": [
              "15"
            ]
          },
          "metadata": {
            "tags": []
          },
          "execution_count": 6
        }
      ]
    },
    {
      "cell_type": "code",
      "metadata": {
        "id": "_kX_GnbDgUS2",
        "outputId": "cd116584-3d3e-43c0-e63c-51450921f12b",
        "colab": {
          "base_uri": "https://localhost:8080/",
          "height": 35
        }
      },
      "source": [
        "tweets[0].text"
      ],
      "execution_count": 7,
      "outputs": [
        {
          "output_type": "execute_result",
          "data": {
            "application/vnd.google.colaboratory.intrinsic+json": {
              "type": "string"
            },
            "text/plain": [
              "'RT @poetbadri: In abp news studio with arvind ji and rumana...discussing bihar election. https://t.co/esy0MATwIH'"
            ]
          },
          "metadata": {
            "tags": []
          },
          "execution_count": 7
        }
      ]
    },
    {
      "cell_type": "code",
      "metadata": {
        "id": "yAoDSOhDgW8N"
      },
      "source": [
        ""
      ],
      "execution_count": null,
      "outputs": []
    }
  ]
}